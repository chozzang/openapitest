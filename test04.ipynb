{
 "cells": [
  {
   "cell_type": "code",
   "execution_count": 2,
   "metadata": {},
   "outputs": [],
   "source": [
    "import qrcode\n",
    "\n",
    "# QR 코드에 담을 URL\n",
    "url = \"https://github.com/chozzang/openapitest\"\n",
    "\n",
    "# QR 코드 생성\n",
    "qr = qrcode.QRCode(\n",
    "    version=1,  # QR 코드의 크기 (1이 가장 작음)\n",
    "    error_correction=qrcode.constants.ERROR_CORRECT_L,  # 오류 수정 수준\n",
    "    box_size=10,  # QR 코드의 각 박스 크기\n",
    "    border=4,  # 테두리 크기\n",
    ")\n",
    "qr.add_data(url)  # 데이터 추가\n",
    "qr.make(fit=True)\n",
    "\n",
    "# QR 코드 이미지 생성\n",
    "img = qr.make_image(fill_color=\"black\", back_color=\"white\")\n",
    "\n",
    "# 이미지 파일로 저장\n",
    "img.save(\"qrcode.png\")\n"
   ]
  },
  {
   "cell_type": "code",
   "execution_count": null,
   "metadata": {},
   "outputs": [],
   "source": []
  }
 ],
 "metadata": {
  "kernelspec": {
   "display_name": "Python 3",
   "language": "python",
   "name": "python3"
  },
  "language_info": {
   "codemirror_mode": {
    "name": "ipython",
    "version": 3
   },
   "file_extension": ".py",
   "mimetype": "text/x-python",
   "name": "python",
   "nbconvert_exporter": "python",
   "pygments_lexer": "ipython3",
   "version": "3.12.2"
  }
 },
 "nbformat": 4,
 "nbformat_minor": 2
}
